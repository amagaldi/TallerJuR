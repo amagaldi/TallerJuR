{
 "cells": [
  {
   "cell_type": "markdown",
   "metadata": {},
   "source": [
    "<div style='background-image: url(\"../../share/images/header.svg\") ; padding: 0px ; background-size: cover ; border-radius: 5px ; height: 250px'>\n",
    "    <div style=\"float: right ; margin: 50px ; padding: 20px ; background: rgba(255 , 255 , 255 , 0.7) ; width: 50% ; height: 150px\">\n",
    "        <div style=\"position: relative ; top: 50% ; transform: translatey(-50%)\">\n",
    "            <div style=\"font-size: xx-large ; font-weight: 900 ; color: rgba(0 , 0 , 0 , 0.8) ; line-height: 100%\">Paquetes en Julia</div>\n",
    "            <div style=\"font-size: large ; padding-top: 20px ; color: rgba(0 , 0 , 0 , 0.5)\">Ulises M. Alvarez</div>\n",
    "        </div>\n",
    "    </div>\n",
    "</div>"
   ]
  },
  {
   "cell_type": "markdown",
   "metadata": {},
   "source": [
    "# El problema de las actualizaciones\n",
    "\n",
    "Actualizar, *julia,* a última versión disponible plantea algunos problemas, entre ellos podemos mencionar:\n",
    "\n",
    "* Incompatibilidad de programas por cambios en la sintaxis del lenguaje.\n",
    "* Necesidad de reinstalar la biblioteca de librerías."
   ]
  },
  {
   "cell_type": "markdown",
   "metadata": {},
   "source": [
    "# Administración de la biblioteca de librerías\n",
    "\n",
    "*Julia,* cuenta con varias herramientas para la administración de las librerías *(Packages).* Todas estas herramientas están disponibles en el módulo, *Pkg,* que se incluye por defecto.\n",
    "\n",
    "La ayuda para dichas herramientas está disponible en la consola de las sesiones interactivas y en línea:\n",
    "\n",
    "* https://docs.julialang.org/en/stable/manual/packages/"
   ]
  },
  {
   "cell_type": "markdown",
   "metadata": {
    "collapsed": true
   },
   "source": [
    "## Estado de las librerías\n",
    "\n",
    "El estado de las librerías se puede obtener con el comando:\n",
    "\n",
    "```julia\n",
    "Pkg.status()\n",
    "```"
   ]
  },
  {
   "cell_type": "code",
   "execution_count": 1,
   "metadata": {},
   "outputs": [
    {
     "name": "stdout",
     "output_type": "stream",
     "text": [
      "1 required packages:\n",
      " - IJulia                        1.5.0\n",
      "8 additional packages:\n",
      " - BinDeps                       0.6.0\n",
      " - Compat                        0.26.0\n",
      " - Conda                         0.5.3\n",
      " - JSON                          0.12.0\n",
      " - MbedTLS                       0.4.5\n",
      " - SHA                           0.3.3\n",
      " - URIParser                     0.1.8\n",
      " - ZMQ                           0.4.3\n"
     ]
    }
   ],
   "source": [
    "Pkg.status()  # Obtenemos el \"estado\" de la biblioteca"
   ]
  },
  {
   "cell_type": "markdown",
   "metadata": {},
   "source": [
    "Como podemos observar, en este caso tenemos librerías:\n",
    "\n",
    "* *requeridas*, esto es, instalados por el usuario.\n",
    "* *adicionales*, librerías descargadas como dependencias."
   ]
  },
  {
   "cell_type": "markdown",
   "metadata": {},
   "source": [
    "Si no ha instalado ninguna librería al momento de ejecutar el comando, obtendrá:\n",
    "\n",
    "```julia\n",
    "Pkg.status()\n",
    "INFO: Initializing package repository ~/.julia/v0.5\n",
    "INFO: Cloning METADATA from git://github.com/JuliaLang/METADATA.jl\n",
    "No packages installed.\n",
    "```"
   ]
  },
  {
   "cell_type": "markdown",
   "metadata": {},
   "source": [
    "## Directorio de trabajo\n",
    "\n",
    "Para mostrar el directorio *base* donde están, o estarán, las librerías usamos:\n",
    "\n",
    "```julia\n",
    "Pkg.dir()\n",
    "```"
   ]
  },
  {
   "cell_type": "markdown",
   "metadata": {},
   "source": [
    "Si deseamos saber la ruta a una librería en particular, usamos:\n",
    "\n",
    "```julia\n",
    "Pkg.dir(\"IJulia\")\n",
    "```"
   ]
  },
  {
   "cell_type": "markdown",
   "metadata": {},
   "source": [
    "## Librerías disponibles para instalar\n",
    "\n",
    "Para obtener una lista de las librerías que podríamos instalar desde Internet, usamos: "
   ]
  },
  {
   "cell_type": "code",
   "execution_count": 2,
   "metadata": {},
   "outputs": [
    {
     "data": {
      "text/plain": [
       "1410-element Array{AbstractString,1}:\n",
       " \"AbstractDomains\"       \n",
       " \"AbstractFFTs\"          \n",
       " \"AbstractTables\"        \n",
       " \"AbstractTrees\"         \n",
       " \"Accumulo\"              \n",
       " \"ACME\"                  \n",
       " \"ActiveAppearanceModels\"\n",
       " \"Actors\"                \n",
       " \"ActuarialScience\"      \n",
       " \"AdaptiveDistanceFields\"\n",
       " \"AdjacentFloats\"        \n",
       " \"AffineInvariantMCMC\"   \n",
       " \"AffineTransforms\"      \n",
       " ⋮                       \n",
       " \"Xtensor\"               \n",
       " \"YAML\"                  \n",
       " \"Yelp\"                  \n",
       " \"Yeppp\"                 \n",
       " \"YT\"                    \n",
       " \"ZChop\"                 \n",
       " \"Zeros\"                 \n",
       " \"ZipCode\"               \n",
       " \"ZipFile\"               \n",
       " \"Zlib\"                  \n",
       " \"ZMQ\"                   \n",
       " \"ZVSimulator\"           "
      ]
     },
     "execution_count": 2,
     "metadata": {},
     "output_type": "execute_result"
    }
   ],
   "source": [
    "Pkg.available()        # Qué librerías (paquetes) están disponibles para instalar"
   ]
  },
  {
   "cell_type": "markdown",
   "metadata": {},
   "source": [
    "Este comando regresa un vector de tipo *String*:"
   ]
  },
  {
   "cell_type": "code",
   "execution_count": 3,
   "metadata": {},
   "outputs": [
    {
     "data": {
      "text/plain": [
       "Array{AbstractString,1}"
      ]
     },
     "execution_count": 3,
     "metadata": {},
     "output_type": "execute_result"
    }
   ],
   "source": [
    "typeof(Pkg.available())  # Qué tipo de respuesta nos regresa, Pkg.available()"
   ]
  },
  {
   "cell_type": "markdown",
   "metadata": {},
   "source": [
    "Por lo que podríamos usar las funciones disponibles para cadenas de caracteres, como *contains()*"
   ]
  },
  {
   "cell_type": "code",
   "execution_count": 4,
   "metadata": {},
   "outputs": [
    {
     "data": {
      "text/plain": [
       "true"
      ]
     },
     "execution_count": 4,
     "metadata": {},
     "output_type": "execute_result"
    }
   ],
   "source": [
    "contains(==,             # igualdad que evaluará la función\n",
    "    Pkg.available(),     # vector donde hacemos la búsqueda\n",
    "    \"IJuliaPortrayals\")  # cadena a buscar"
   ]
  },
  {
   "cell_type": "markdown",
   "metadata": {},
   "source": [
    "**Para saber más:**\n",
    "\n",
    "* https://docs.julialang.org/en/stable/stdlib/strings/#strings"
   ]
  },
  {
   "cell_type": "markdown",
   "metadata": {},
   "source": [
    "## Librerías instaladas\n",
    "\n",
    "Para facilitar las consultas, *julia*, también cuenta con una función que nos permite obtener una lista de las librerías que ya tenemos instaladas: "
   ]
  },
  {
   "cell_type": "code",
   "execution_count": 5,
   "metadata": {},
   "outputs": [
    {
     "data": {
      "text/plain": [
       "Dict{String,VersionNumber} with 9 entries:\n",
       "  \"URIParser\" => v\"0.1.8\"\n",
       "  \"Conda\"     => v\"0.5.3\"\n",
       "  \"JSON\"      => v\"0.12.0\"\n",
       "  \"BinDeps\"   => v\"0.6.0\"\n",
       "  \"Compat\"    => v\"0.26.0\"\n",
       "  \"IJulia\"    => v\"1.5.0\"\n",
       "  \"SHA\"       => v\"0.3.3\"\n",
       "  \"MbedTLS\"   => v\"0.4.5\"\n",
       "  \"ZMQ\"       => v\"0.4.3\""
      ]
     },
     "execution_count": 5,
     "metadata": {},
     "output_type": "execute_result"
    }
   ],
   "source": [
    "Pkg.installed()"
   ]
  },
  {
   "cell_type": "markdown",
   "metadata": {},
   "source": [
    "Como se puede observar, este comando regresa un diccionario:"
   ]
  },
  {
   "cell_type": "code",
   "execution_count": 6,
   "metadata": {},
   "outputs": [
    {
     "data": {
      "text/plain": [
       "Dict{String,VersionNumber}"
      ]
     },
     "execution_count": 6,
     "metadata": {},
     "output_type": "execute_result"
    }
   ],
   "source": [
    "typeof(Pkg.installed())"
   ]
  },
  {
   "cell_type": "markdown",
   "metadata": {},
   "source": [
    "Las variables de tipo *diccionario* cuentan con sus propias funciones, por ejemplo, para saber si el diccionario tiene una llave:"
   ]
  },
  {
   "cell_type": "code",
   "execution_count": 7,
   "metadata": {},
   "outputs": [
    {
     "data": {
      "text/plain": [
       "false"
      ]
     },
     "execution_count": 7,
     "metadata": {},
     "output_type": "execute_result"
    }
   ],
   "source": [
    "haskey(Pkg.installed(), \"PlotlyJS\")"
   ]
  },
  {
   "cell_type": "markdown",
   "metadata": {},
   "source": [
    "**Para saber más:**\n",
    "\n",
    "* https://docs.julialang.org/en/stable/stdlib/collections/?highlight=dict#Base.Dict"
   ]
  },
  {
   "cell_type": "markdown",
   "metadata": {},
   "source": [
    "# Actualizando biblioteca de una versión a otra\n",
    "\n",
    "Para reproducir la biblioteca de la versión anterior de *julia*, se puede usar el siguiente procedimiento:"
   ]
  },
  {
   "cell_type": "markdown",
   "metadata": {},
   "source": [
    "**1.** Copiar el archivo *REQUIERE* de la versión anterior a la nueva:\n",
    "\n",
    "```shell\n",
    "$ ls ~/.julia/                             # obtenemos listado del directorio local de julia\n",
    "lib  v0.5  v0.6                           \n",
    "\n",
    "$ cp ~/.julia/v0.5/REQUIRE ~/.julia/v0.6/  # copiamos \"REQUIERE\" de v0.5 a v0.6\n",
    "```"
   ]
  },
  {
   "cell_type": "markdown",
   "metadata": {},
   "source": [
    "``` shell\n",
    "$ cat ~/.julia/v0.6/REQUIRE                # mostramos el contenido de \"REQUIERE\"\n",
    "IJulia\n",
    "PyPlot\n",
    "Weave\n",
    "Plots\n",
    "PlotlyJS\n",
    "UnicodePlots\n",
    "StatPlots\n",
    "PlotRecipes\n",
    "Blink\n",
    "Rsvg\n",
    "Distributions\n",
    "GLM\n",
    "RDatasets\n",
    "DataFrames\n",
    "DataArrays\n",
    "LaTeX\n",
    "Winston\n",
    "Gadfly\n",
    "Measures\n",
    "Compose\n",
    "```"
   ]
  },
  {
   "cell_type": "markdown",
   "metadata": {},
   "source": [
    "**2.** Ahora, lance la nueva versión de *julia* y, desde la *REPL*, ejecute:\n",
    "\n",
    "```julia\n",
    "Pkg.resolve() \n",
    "```"
   ]
  },
  {
   "cell_type": "markdown",
   "metadata": {},
   "source": [
    "**Para saber más:**\n",
    "\n",
    "* https://docs.julialang.org/en/stable/manual/packages/#adding-and-removing-packages"
   ]
  },
  {
   "cell_type": "markdown",
   "metadata": {},
   "source": [
    "# Ejercicio\n",
    "\n",
    "Se desea hacer una función que:\n",
    "* Verifique si un paquete está o no instalado.\n",
    "* Si no está instalado, debe descargarlo y cargarlo a la *REPL.*\n",
    "* Si ya está instalado, debe cargarlo a la *REPL.*"
   ]
  },
  {
   "cell_type": "code",
   "execution_count": 8,
   "metadata": {},
   "outputs": [
    {
     "name": "stderr",
     "output_type": "stream",
     "text": [
      "\u001b[1m\u001b[36mINFO: \u001b[39m\u001b[22m\u001b[36mCloning cache of Calculus from https://github.com/johnmyleswhite/Calculus.jl.git\n",
      "\u001b[39m\u001b[1m\u001b[36mINFO: \u001b[39m\u001b[22m\u001b[36mCloning cache of DataStructures from https://github.com/JuliaCollections/DataStructures.jl.git\n",
      "\u001b[39m\u001b[1m\u001b[36mINFO: \u001b[39m\u001b[22m\u001b[36mCloning cache of Distributions from https://github.com/JuliaStats/Distributions.jl.git\n",
      "\u001b[39m\u001b[1m\u001b[36mINFO: \u001b[39m\u001b[22m\u001b[36mCloning cache of PDMats from https://github.com/JuliaStats/PDMats.jl.git\n",
      "\u001b[39m\u001b[1m\u001b[36mINFO: \u001b[39m\u001b[22m\u001b[36mCloning cache of QuadGK from https://github.com/JuliaMath/QuadGK.jl.git\n",
      "\u001b[39m\u001b[1m\u001b[36mINFO: \u001b[39m\u001b[22m\u001b[36mCloning cache of Rmath from https://github.com/JuliaStats/Rmath.jl.git\n",
      "\u001b[39m\u001b[1m\u001b[36mINFO: \u001b[39m\u001b[22m\u001b[36mCloning cache of SpecialFunctions from https://github.com/JuliaMath/SpecialFunctions.jl.git\n",
      "\u001b[39m\u001b[1m\u001b[36mINFO: \u001b[39m\u001b[22m\u001b[36mCloning cache of StatsBase from https://github.com/JuliaStats/StatsBase.jl.git\n",
      "\u001b[39m\u001b[1m\u001b[36mINFO: \u001b[39m\u001b[22m\u001b[36mCloning cache of StatsFuns from https://github.com/JuliaStats/StatsFuns.jl.git\n",
      "\u001b[39m\u001b[1m\u001b[36mINFO: \u001b[39m\u001b[22m\u001b[36mInstalling Calculus v0.2.2\n",
      "\u001b[39m\u001b[1m\u001b[36mINFO: \u001b[39m\u001b[22m\u001b[36mInstalling DataStructures v0.5.3\n",
      "\u001b[39m\u001b[1m\u001b[36mINFO: \u001b[39m\u001b[22m\u001b[36mInstalling Distributions v0.13.0\n",
      "\u001b[39m\u001b[1m\u001b[36mINFO: \u001b[39m\u001b[22m\u001b[36mInstalling PDMats v0.7.0\n",
      "\u001b[39m\u001b[1m\u001b[36mINFO: \u001b[39m\u001b[22m\u001b[36mInstalling QuadGK v0.1.2\n",
      "\u001b[39m\u001b[1m\u001b[36mINFO: \u001b[39m\u001b[22m\u001b[36mInstalling Rmath v0.1.6\n",
      "\u001b[39m\u001b[1m\u001b[36mINFO: \u001b[39m\u001b[22m\u001b[36mInstalling SpecialFunctions v0.1.1\n",
      "\u001b[39m\u001b[1m\u001b[36mINFO: \u001b[39m\u001b[22m\u001b[36mInstalling StatsBase v0.16.0\n",
      "\u001b[39m\u001b[1m\u001b[36mINFO: \u001b[39m\u001b[22m\u001b[36mInstalling StatsFuns v0.5.0\n",
      "\u001b[39m\u001b[1m\u001b[36mINFO: \u001b[39m\u001b[22m\u001b[36mBuilding Rmath\n",
      "\u001b[39m\u001b[1m\u001b[36mINFO: \u001b[39m\u001b[22m\u001b[36mAttempting to Create directory /home/uma/.julia/v0.6/Rmath/deps/downloads\n",
      "\u001b[39m\u001b[1m\u001b[36mINFO: \u001b[39m\u001b[22m\u001b[36mDownloading file https://github.com/JuliaLang/Rmath-julia/archive/v0.1.tar.gz\n",
      "\u001b[39m  % Total    % Received % Xferd  Average Speed   Time    Time     Time  Current\n",
      "                                 Dload  Upload   Total   Spent    Left  Speed\n",
      "100   127    0   127    0     0    438      0 --:--:-- --:--:-- --:--:--   437\n",
      "100  165k  100  165k    0     0  75278      0  0:00:02  0:00:02 --:--:--  369k\n",
      "\u001b[1m\u001b[36mINFO: \u001b[39m\u001b[22m\u001b[36mDone downloading file https://github.com/JuliaLang/Rmath-julia/archive/v0.1.tar.gz\n",
      "\u001b[39m\u001b[1m\u001b[36mINFO: \u001b[39m\u001b[22m\u001b[36mAttempting to Create directory /home/uma/.julia/v0.6/Rmath/deps/src\n",
      "\u001b[39m\u001b[1m\u001b[36mINFO: \u001b[39m\u001b[22m\u001b[36mAttempting to Create directory /home/uma/.julia/v0.6/Rmath/deps\n",
      "\u001b[39m\u001b[1m\u001b[36mINFO: \u001b[39m\u001b[22m\u001b[36mDirectory /home/uma/.julia/v0.6/Rmath/deps already created\n",
      "\u001b[39m\u001b[1m\u001b[36mINFO: \u001b[39m\u001b[22m\u001b[36mAttempting to Create directory /home/uma/.julia/v0.6/Rmath/deps/usr/lib\n",
      "\u001b[39m\u001b[1m\u001b[36mINFO: \u001b[39m\u001b[22m\u001b[36mChanging Directory to /home/uma/.julia/v0.6/Rmath/deps/src/Rmath-julia-0.1\n",
      "\u001b[39mlbeta.c: In function ‘lbeta’:\n",
      "lbeta.c:72:5: warning: this ‘else’ clause does not guard... [-Wmisleading-indentation]\n",
      "     else\n",
      "     ^~~~\n",
      "lbeta.c:76:2: note: ...this statement, but the latter is misleadingly indented as if it were guarded by the ‘else’\n",
      "  return log(gammafn(p) * (gammafn(q) / gammafn(p + q)));\n",
      "  ^~~~~~\n",
      "randmtzig.c: In function ‘gv_randi’:\n",
      "randmtzig.c:92:5: warning: dereferencing type-punned pointer will break strict-aliasing rules [-Wstrict-aliasing]\n",
      "     return *((uint64_t *) &r) & 0x000fffffffffffff;\n",
      "     ^~~~~~\n",
      "randmtzig.c: In function ‘randi’:\n",
      "randmtzig.c:104:5: warning: dereferencing type-punned pointer will break strict-aliasing rules [-Wstrict-aliasing]\n",
      "     return *((uint64_t *) &r) & 0x000fffffffffffff;\n",
      "     ^~~~~~\n",
      "\u001b[1m\u001b[36mINFO: \u001b[39m\u001b[22m\u001b[36mChanging Directory to /home/uma/.julia/v0.6/Rmath/deps/src/Rmath-julia-0.1\n",
      "\u001b[39m\u001b[1m\u001b[36mINFO: \u001b[39m\u001b[22m\u001b[36mPackage database updated\n",
      "\u001b[39m\u001b[1m\u001b[36mINFO: \u001b[39m\u001b[22m\u001b[36mPrecompiling module Distributions.\n",
      "\u001b[39m"
     ]
    }
   ],
   "source": [
    "if !haskey(Pkg.installed(), \"Distributions\")  # ¿Está instalado el paquete?\n",
    "    Pkg.add(\"Distributions\")                  # Si no está, lo instalamos\n",
    "    using Distributions\n",
    "else\n",
    "    using Distributions\n",
    "end"
   ]
  },
  {
   "cell_type": "code",
   "execution_count": 11,
   "metadata": {},
   "outputs": [
    {
     "name": "stdout",
     "output_type": "stream",
     "text": [
      "2 required packages:\n",
      " - Distributions                 0.13.0\n",
      " - IJulia                        1.5.0\n",
      "16 additional packages:\n",
      " - BinDeps                       0.6.0\n",
      " - Calculus                      0.2.2\n",
      " - Compat                        0.26.0\n",
      " - Conda                         0.5.3\n",
      " - DataStructures                0.5.3\n",
      " - JSON                          0.12.0\n",
      " - MbedTLS                       0.4.5\n",
      " - PDMats                        0.7.0\n",
      " - QuadGK                        0.1.2\n",
      " - Rmath                         0.1.6\n",
      " - SHA                           0.3.3\n",
      " - SpecialFunctions              0.1.1\n",
      " - StatsBase                     0.16.0\n",
      " - StatsFuns                     0.5.0\n",
      " - URIParser                     0.1.8\n",
      " - ZMQ                           0.4.3\n"
     ]
    }
   ],
   "source": [
    "Pkg.status()"
   ]
  },
  {
   "cell_type": "markdown",
   "metadata": {},
   "source": [
    "# Reproducibilidad"
   ]
  },
  {
   "cell_type": "code",
   "execution_count": 12,
   "metadata": {},
   "outputs": [
    {
     "name": "stdout",
     "output_type": "stream",
     "text": [
      "Julia Version 0.6.0-rc2.0\n",
      "Commit 68e911be53* (2017-05-18 02:31 UTC)\n",
      "Platform Info:\n",
      "  OS: Linux (x86_64-solus-linux)\n",
      "  CPU: Intel(R) Core(TM) i7-3615QM CPU @ 2.30GHz\n",
      "  WORD_SIZE: 64\n",
      "  BLAS: libopenblas (NO_AFFINITY CORE2)\n",
      "  LAPACK: libopenblas\n",
      "  LIBM: libopenlibm\n",
      "  LLVM: libLLVM-4.0.0 (ORCJIT, ivybridge)\n"
     ]
    }
   ],
   "source": [
    "versioninfo()"
   ]
  },
  {
   "cell_type": "code",
   "execution_count": 13,
   "metadata": {},
   "outputs": [
    {
     "data": {
      "text/plain": [
       "2017-06-16"
      ]
     },
     "execution_count": 13,
     "metadata": {},
     "output_type": "execute_result"
    }
   ],
   "source": [
    "Dates.today()"
   ]
  },
  {
   "cell_type": "markdown",
   "metadata": {},
   "source": [
    "# Referencias:\n",
    "\n",
    "* https://docs.julialang.org/en/stable/manual/packages/\n",
    "* https://docs.julialang.org/en/stable/stdlib/pkg/\n",
    "* https://docs.julialang.org/en/stable/stdlib/collections/?highlight=dict#collections-and-data-structures"
   ]
  }
 ],
 "metadata": {
  "kernelspec": {
   "display_name": "Julia 0.6.0-rc2",
   "language": "julia",
   "name": "julia-0.6"
  },
  "language_info": {
   "file_extension": ".jl",
   "mimetype": "application/julia",
   "name": "julia",
   "version": "0.6.0"
  }
 },
 "nbformat": 4,
 "nbformat_minor": 2
}
